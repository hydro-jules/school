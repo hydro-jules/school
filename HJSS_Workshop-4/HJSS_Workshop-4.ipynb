# Workshop 4: Working with multi-dimensional data

In this workshop, we provide an introduction to working with multi-dimensional data in Python.

**The learning objectives are to:**
- provide a recap on multi-dimensional geospatial data using Python 
- provide basic understanding and examples of working with NetCDF file operations
- provide basic understanding and examples of working with CF metadata conventions
- provide a brief introduction to CF Python package
- understand the basic data structures in Xarray and how to work with them

In this workshop (and related HydroJULES workshops) we use Python in Jupyter notebooks. We assume you know the basics of using Python for processing numerical data, and are familiar with Jupyter notebooks. If you would like to improve your confidence and ability with Python and Jupyter notebooks, there are some learning resources at the end of this notebook. 

<details>
    <summary>NumPy, Pandas, and Matplotlib 101 </summary>
In this workshop we are assuming you know about [NumPy](https://numpy.org/) (Numerical Python) and [Pandas](https://pandas.pydata.org/). Numpy is a Python library that provides a multidimensional array object, various derived objects e.g. masked arrays, and an assortment of routines for fast operations on arrays. NumPy arrays are faster and more compact than Python lists. NumPy arrays contain data of the same type. An array is a central data structure of the NumPy library. An array is a grid of values and it contains information about the raw data, how to locate an element, and how to interpret an element. The rank of the array is the number of dimensions. The shape of the array is a tuple of integers giving the size of the array along each dimension.

Pandas is a widely used Python library that provides two types of data structure and is often used for data input and output operations. 
Series: a one-dimensional labeled array holding data of any type e.g. integer.
DataFrame: a two-dimensional data structure that holds data like a two-dimension array.

[GeoPandas](https://geopandas.org/en/stable/) extends the datatypes used by Pandas to allow spatial operations on geometric types. The core data structure in GeoPandas is the `geopandas.GeoDataFrame`, a subclass of `pandas.DataFrame`, that can store geometry columns and perform spatial operations. The geopandas.GeoSeries, a subclass of pandas.Series, handles the geometries. 

[Matplotlib](https://matplotlib.org/stable/) is a comprehensive library for creating static, animated, and interactive visualizations. Matplotlib graphs your data on `Figures` (e.g., windows, Jupyter widgets, etc.), each of which can contain one or more `Axes`, an area where points can be specified in terms of x-y coordinates.

</details>

## Multi-dimensional geospatial data 101
Multi-dimensional geospatial data refers to datasets that include multiple layers or dimensions of geographical information. This data goes beyond the simple two-dimensional latitude and longitude coordinates and often includes additional dimensions such as time, elevation (altitude), and other variables like temperature, humidity, population density, or any other measurable attribute.

<img src=\"https://docs.xarray.dev/en/stable/_images/dataset-diagram.png\" align=\"center\" width=\"50%\" alt="Image of multidimensional data/>

This workshop was designed for an hour long session as part of the HydroJULES school. It does not cover all aspects of multi-dimensional data use by the Python scientific communities. Additional resources can be found at the end of this notebook.
## Multi-dimensional data and Python packages
There are a wide range of Python packages that can be used with multi-dimensional files such as NetCDF files. In this workshop we focus on
[
netcdf4-pyth](https://unidata.github.io/netcdf4-python): is a Python interface to the netCDF C libryar [n
honhonpyt](https://ncas-cms.github.io/cf-pyn/)on: a Python Earth Science data analysis library that is built on a complete implementation of the CF damodel.
r[ayrray
a] (https://xar.dev)ay: makes working with labelled multi-dimensional arrays simple and efficiennce 

<details>
    <summary>NetCDF and netcdf4-python</summary>
netcdf4-python is a Python interface to the netCDF C library (Network Common Data Form). It provides a low level interface for working with netCDF datasets in Python. NetCDF refers to a set of software libraries and self-describing, machine-independant data formats that support the creation, access and sharing of array-oriented scientific data. NetCDF was developed in the late 1980s at the Unidata Program Centre, with the objective of building a file format that would permit sharing of data among atmospheric scientists. The stated objectives for the netCDF format were for it to be: self-describing, portable, scalable, appendable, shareable, and archivable. NetCDF4 in ~ 2011 provides the capability to apply attributes to a file as a whole, to a group within a file, or to any individual variable.

</details>

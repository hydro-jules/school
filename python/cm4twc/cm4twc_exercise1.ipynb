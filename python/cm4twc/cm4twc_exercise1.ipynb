{
 "cells": [
  {
   "cell_type": "markdown",
   "metadata": {},
   "source": [
    "# `cm4twc` exercise 1\n",
    "\n",
    "For this exercise, you may find useful information in the [online documentation](https://cm4twc-org.github.io/cm4twc)"
   ]
  },
  {
   "cell_type": "markdown",
   "metadata": {},
   "source": [
    "1. Import the framework"
   ]
  },
  {
   "cell_type": "code",
   "execution_count": null,
   "metadata": {},
   "outputs": [],
   "source": []
  },
  {
   "cell_type": "markdown",
   "metadata": {},
   "source": [
    "2. Reload your model from the demo run using [`cm4twc.Model.from_yaml(...)`](https://cm4twc-org.github.io/cm4twc/api/methods/cm4twc.Model.from_yaml.html#cm4twc.Model.from_yaml)\n",
    "\n",
    "   (__hint:__ your YAML configuration file should be found in */data/demo-data/out-yourfirstname-yourlastname* and named *yourrunidentifier.yml*)"
   ]
  },
  {
   "cell_type": "code",
   "execution_count": null,
   "metadata": {},
   "outputs": [],
   "source": []
  },
  {
   "cell_type": "markdown",
   "metadata": {},
   "source": [
    "3. Access the openwater component of the model through the `openwater` attribute of your model object, and use its `parameters` attribute to assign a new dictionary containing the new parameter values and units (i.e. `model.openwater.parameters = ...`)\n",
    "\n",
    "   (__hint:__ re-use the dictionary containing parameter values and units used in the creation of our openwater component in the demo run)\n",
    "   \n",
    "   (__note:__ the wave speed parameters of the RFM component are [highly dependent on model resolution](https://jules-lsm.github.io/latest/namelists/jules_rivers.nml.html#JULES_RIVERS::cland), if you want to change these, proceed with caution)\n",
    "   \n",
    "   (__hint:__ why not changing the *ret_r* parameter to a slightly larger value, say 0.01)"
   ]
  },
  {
   "cell_type": "code",
   "execution_count": null,
   "metadata": {},
   "outputs": [],
   "source": []
  },
  {
   "cell_type": "markdown",
   "metadata": {},
   "source": [
    "5. Change the identifier for your model to __something different__ from the one of your demo run using the `identifier` attribute of your model"
   ]
  },
  {
   "cell_type": "code",
   "execution_count": null,
   "metadata": {},
   "outputs": [],
   "source": []
  },
  {
   "cell_type": "markdown",
   "metadata": {},
   "source": [
    "6. Spin up your model for one cycle for the calendar year 2016"
   ]
  },
  {
   "cell_type": "code",
   "execution_count": null,
   "metadata": {},
   "outputs": [],
   "source": []
  },
  {
   "cell_type": "markdown",
   "metadata": {},
   "source": [
    "7. Start your model simulation"
   ]
  },
  {
   "cell_type": "code",
   "execution_count": null,
   "metadata": {},
   "outputs": [],
   "source": []
  },
  {
   "cell_type": "markdown",
   "metadata": {},
   "source": [
    "8. Using the `cf` package, load the *outgoing_water_volume_transport_along_river_channel* from the openwater component output of your __demo run__\n",
    "\n",
    "   (__hint:__ you have done this step before in the demo)"
   ]
  },
  {
   "cell_type": "code",
   "execution_count": null,
   "metadata": {},
   "outputs": [],
   "source": []
  },
  {
   "cell_type": "markdown",
   "metadata": {},
   "source": [
    "9. Using the `cf` package, load the *outgoing_water_volume_transport_along_river_channel* from the openwater component output of the __run you've just completed__"
   ]
  },
  {
   "cell_type": "code",
   "execution_count": null,
   "metadata": {},
   "outputs": [],
   "source": []
  },
  {
   "cell_type": "markdown",
   "metadata": {},
   "source": [
    "10. Using the `cfplot` package, compare the two outputs above at coordinates (52.75 degrees North, 0.25 degrees South) on a lineplot\n",
    "\n",
    "   (__hint:__ remember to ask matplotlib to show plots inline)"
   ]
  },
  {
   "cell_type": "code",
   "execution_count": null,
   "metadata": {},
   "outputs": [],
   "source": []
  },
  {
   "cell_type": "markdown",
   "metadata": {},
   "source": [
    "11. Close the files you've opened"
   ]
  },
  {
   "cell_type": "code",
   "execution_count": null,
   "metadata": {},
   "outputs": [],
   "source": []
  }
 ],
 "metadata": {
  "kernelspec": {
   "display_name": "hj-38-nompi",
   "language": "python",
   "name": "hj-38-nompi"
  },
  "language_info": {
   "codemirror_mode": {
    "name": "ipython",
    "version": 3
   },
   "file_extension": ".py",
   "mimetype": "text/x-python",
   "name": "python",
   "nbconvert_exporter": "python",
   "pygments_lexer": "ipython3",
   "version": "3.8.6"
  }
 },
 "nbformat": 4,
 "nbformat_minor": 5
}

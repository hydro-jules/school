{
 "cells": [
  {
   "cell_type": "markdown",
   "metadata": {},
   "source": [
    "# `cm4twc` exercise 2\n",
    "\n",
    "For this exercise, you may find useful information in the [online documentation](https://cm4twc-org.github.io/cm4twc)"
   ]
  },
  {
   "cell_type": "markdown",
   "metadata": {},
   "source": [
    "1. Import the framework"
   ]
  },
  {
   "cell_type": "code",
   "execution_count": null,
   "metadata": {},
   "outputs": [],
   "source": []
  },
  {
   "cell_type": "markdown",
   "metadata": {},
   "source": [
    "## choose your components\n",
    "\n",
    "2. Get the `SurfaceLayerComponent` from the GR4 model"
   ]
  },
  {
   "cell_type": "code",
   "execution_count": null,
   "metadata": {},
   "outputs": [],
   "source": []
  },
  {
   "cell_type": "markdown",
   "metadata": {},
   "source": [
    "3. Get the `SubSurfaceComponent` from the GR4 model"
   ]
  },
  {
   "cell_type": "code",
   "execution_count": null,
   "metadata": {},
   "outputs": [],
   "source": []
  },
  {
   "cell_type": "markdown",
   "metadata": {},
   "source": [
    "4. Get the `OpenWaterComponent` from the RFM model"
   ]
  },
  {
   "cell_type": "code",
   "execution_count": null,
   "metadata": {},
   "outputs": [],
   "source": []
  },
  {
   "cell_type": "markdown",
   "metadata": {},
   "source": [
    "## create domains for space and time"
   ]
  },
  {
   "cell_type": "markdown",
   "metadata": {},
   "source": [
    "### space\n",
    "\n",
    "5. Define a __1km resolution__ space domain using the [`BritishNationalGrid`](https://cm4twc-org.github.io/cm4twc/api/methods/cm4twc.BritishNationalGrid.from_extent_and_resolution.html#cm4twc.BritishNationalGrid.from_extent_and_resolution) over __Scotland__ \n",
    "\n",
    "   (__hint:__ a region with eastings from 80km to 500km, and northings from 550km to 1000km includes Scotland, [see on a map](https://gridreferencefinder.com/#gr=JV0000000000|500000_s__c__s_1000000|1,NV8000050000|80000_s__c__s_550000|1,OV0000050000|500000_s__c__s_550000|1,HV8000000000|80000_s__c__s_1000000|1))\n",
    "   \n",
    "   (__hint:__ easting is also known as \"projection_x_coordinate\", northing is also known as \"projection_y_coordinate\")"
   ]
  },
  {
   "cell_type": "code",
   "execution_count": null,
   "metadata": {},
   "outputs": [],
   "source": []
  },
  {
   "cell_type": "markdown",
   "metadata": {},
   "source": [
    "### time"
   ]
  },
  {
   "cell_type": "markdown",
   "metadata": {},
   "source": [
    "6. Define a __daily__ time domain for __hydrological year__ 2017\n",
    "\n",
    "   (__hint:__ in the UK, a hydrological year starts at 09:00 GMT on 1st October, [Happy New Water Year!](https://nrfa.ceh.ac.uk/news-and-media/news/happy-new-water-year))"
   ]
  },
  {
   "cell_type": "code",
   "execution_count": null,
   "metadata": {},
   "outputs": [],
   "source": []
  },
  {
   "cell_type": "markdown",
   "metadata": {},
   "source": [
    "7. Define an __hourly__ time domain for __hydrological year__ 2017"
   ]
  },
  {
   "cell_type": "code",
   "execution_count": null,
   "metadata": {},
   "outputs": [],
   "source": []
  },
  {
   "cell_type": "markdown",
   "metadata": {},
   "source": [
    "## load datasets"
   ]
  },
  {
   "cell_type": "markdown",
   "metadata": {},
   "source": [
    "### data for components"
   ]
  },
  {
   "cell_type": "markdown",
   "metadata": {},
   "source": [
    "8. Get the list of input data requirements for the `SurfaceLayerComponent` of GR4J"
   ]
  },
  {
   "cell_type": "code",
   "execution_count": null,
   "metadata": {},
   "outputs": [],
   "source": []
  },
  {
   "cell_type": "markdown",
   "metadata": {},
   "source": [
    "9. Gather the input dataset required for the `SurfaceLayerComponent` of GR4J choosing the __only__ relevant ones in the list below:\n",
    "   - */data/demo-data/in/driving/chess_specific_humidity.nc*\n",
    "   - */data/demo-data/in/driving/chess_rainfall_flux.nc*\n",
    "   - */data/demo-data/in/driving/chess_wind_speed.nc*\n",
    "   - */data/demo-data/in/driving/chess_air_temperature.nc*\n",
    "   - */data/demo-data/in/driving/chess_potential_water_evapotranspiration_flux.nc*"
   ]
  },
  {
   "cell_type": "code",
   "execution_count": null,
   "metadata": {},
   "outputs": [],
   "source": []
  },
  {
   "cell_type": "markdown",
   "metadata": {},
   "source": [
    "10. Gather the input dataset required for the `OpenWaterComponent` of RFM (using file */data/demo-data/in/ancillary/chess_flow_accumulation.nc*)"
   ]
  },
  {
   "cell_type": "code",
   "execution_count": null,
   "metadata": {},
   "outputs": [],
   "source": []
  },
  {
   "cell_type": "markdown",
   "metadata": {},
   "source": [
    "### flow direction for spacedomain"
   ]
  },
  {
   "cell_type": "markdown",
   "metadata": {},
   "source": [
    "11. Check which component requires flow direction"
   ]
  },
  {
   "cell_type": "code",
   "execution_count": null,
   "metadata": {},
   "outputs": [],
   "source": []
  },
  {
   "cell_type": "markdown",
   "metadata": {},
   "source": [
    "12. Read in with `cf` the flow data */data/demo-data/in/ancillary/chess_flow_direction.nc* and assign it to the space domain you've created"
   ]
  },
  {
   "cell_type": "code",
   "execution_count": null,
   "metadata": {},
   "outputs": [],
   "source": []
  },
  {
   "cell_type": "markdown",
   "metadata": {},
   "source": [
    "### land sea mask for spacedomain"
   ]
  },
  {
   "cell_type": "markdown",
   "metadata": {},
   "source": [
    "13. Read in with `cf` the land sea mask data */data/demo-data/in/ancillary/chess_land_sea_mask.nc* and assign it to the space domain you've created"
   ]
  },
  {
   "cell_type": "code",
   "execution_count": null,
   "metadata": {},
   "outputs": [],
   "source": []
  },
  {
   "cell_type": "markdown",
   "metadata": {},
   "source": [
    "## configure your components"
   ]
  },
  {
   "cell_type": "markdown",
   "metadata": {},
   "source": [
    "14. Check the parameter requirements for your three components"
   ]
  },
  {
   "cell_type": "code",
   "execution_count": null,
   "metadata": {},
   "outputs": [],
   "source": []
  },
  {
   "cell_type": "markdown",
   "metadata": {},
   "source": [
    "The parameter values to use for GR4 are as follow:\n",
    "\n",
    "   - $x_1 = 347 \\; kg.m^{-2}$\n",
    "   - $x_2 = -0.0458 \\; kg.m^{-2}.d^{-1}$\n",
    "   - $x_3 = 120 \\; kg.n^{-2}$\n",
    "   - $x_4 = 0.938 \\; d$"
   ]
  },
  {
   "cell_type": "markdown",
   "metadata": {},
   "source": [
    "The parameter values to use for RFM are as follows:\n",
    "\n",
    "   - $c_{land} = 0.40 \\; m.s^{-2}$\n",
    "   - $cb_{land} = 0.05 \\; m.s^{-2}$\n",
    "   - $c_{river} = 0.50 \\; m.s^{-2}$\n",
    "   - $cb_{river} = 0.05 \\; m.s^{-2}$\n",
    "   - $ret_{l} = 0.005$\n",
    "   - $ret_{r} = 0.005$\n",
    "   - $river \\; length = 1000 \\; m$\n",
    "   \n",
    "The constant value to use for RFM is as follows:\n",
    "\n",
    "   - $a_{thres} = 20$"
   ]
  },
  {
   "cell_type": "markdown",
   "metadata": {},
   "source": [
    "15. Configure your `SurfaceLayerComponent` so that:\n",
    "\n",
    "   - it runs at a daily timestep\n",
    "   - it runs on a 1km resolution (British National Grid)\n",
    "   - it is given the data it needs\n",
    "   - it is given the parameter values it needs\n",
    "   - it saves its records in *'/data/demo-data/out-yourfirstname-yourlastname'* (please replace first/lastname accordingly)"
   ]
  },
  {
   "cell_type": "code",
   "execution_count": null,
   "metadata": {},
   "outputs": [],
   "source": []
  },
  {
   "cell_type": "markdown",
   "metadata": {},
   "source": [
    "16. Configure your `SubSurfaceComponent` so that:\n",
    "\n",
    "   - it runs at a daily timestep\n",
    "   - it runs on a 1km resolution (British National Grid)\n",
    "   - it is given the parameter values it needs\n",
    "   - it saves its records in *'/data/demo-data/out-yourfirstname-yourlastname'* (please replace first/lastname accordingly)\n",
    "   - it records daily mean *subsurface_runoff* __and__ 5-day maximum *soil_water_stress*"
   ]
  },
  {
   "cell_type": "code",
   "execution_count": null,
   "metadata": {},
   "outputs": [],
   "source": []
  },
  {
   "cell_type": "markdown",
   "metadata": {},
   "source": [
    "17. Configure your `OpenWaterComponent` so that:\n",
    "\n",
    "   - it runs at an hourly timestep\n",
    "   - it runs on a 1km resolution (British National Grid)\n",
    "   - it is given the parameter values it needs\n",
    "   - it is given the constant value it needs\n",
    "   - it saves its records in *'/data/demo-data/out-yourfirstname-yourlastname'* (please replace first/lastname accordingly)\n",
    "   - it records daily mean __and__ 5-day minimum *outgoing_water_volume_transport_along_river_channel*"
   ]
  },
  {
   "cell_type": "code",
   "execution_count": null,
   "metadata": {},
   "outputs": [],
   "source": []
  },
  {
   "cell_type": "markdown",
   "metadata": {},
   "source": [
    "## form a model from your components"
   ]
  },
  {
   "cell_type": "markdown",
   "metadata": {},
   "source": [
    "18. Put your three components together\n",
    "\n",
    "   (__hint:__ use *'/data/demo-data/out-yourfirstname-yourlastname'* (please replace first/lastname accordingly) to store your configuration and outputs files, and use e.g. \"exercise-run\" for your model identifier)"
   ]
  },
  {
   "cell_type": "code",
   "execution_count": null,
   "metadata": {},
   "outputs": [],
   "source": []
  },
  {
   "cell_type": "markdown",
   "metadata": {},
   "source": [
    "## use your model"
   ]
  },
  {
   "cell_type": "markdown",
   "metadata": {},
   "source": [
    "19. Spin up your model for a year (hydrological year 2017)"
   ]
  },
  {
   "cell_type": "code",
   "execution_count": null,
   "metadata": {},
   "outputs": [],
   "source": []
  },
  {
   "cell_type": "markdown",
   "metadata": {},
   "source": [
    "20. Start your model simulation while resquesting restart snapshots every 60 days"
   ]
  },
  {
   "cell_type": "code",
   "execution_count": null,
   "metadata": {},
   "outputs": [],
   "source": []
  },
  {
   "cell_type": "markdown",
   "metadata": {},
   "source": [
    "21. Using `cf` and `cfplot`, plot the last time step of the daily mean subsurface runoff produced the subsurface component."
   ]
  },
  {
   "cell_type": "code",
   "execution_count": null,
   "metadata": {},
   "outputs": [],
   "source": []
  }
 ],
 "metadata": {
  "kernelspec": {
   "display_name": "hj-38-nompi",
   "language": "python",
   "name": "hj-38-nompi"
  },
  "language_info": {
   "codemirror_mode": {
    "name": "ipython",
    "version": 3
   },
   "file_extension": ".py",
   "mimetype": "text/x-python",
   "name": "python",
   "nbconvert_exporter": "python",
   "pygments_lexer": "ipython3",
   "version": "3.8.6"
  }
 },
 "nbformat": 4,
 "nbformat_minor": 5
}

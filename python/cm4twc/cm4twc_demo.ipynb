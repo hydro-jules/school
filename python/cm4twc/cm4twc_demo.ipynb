{
 "cells": [
  {
   "cell_type": "code",
   "execution_count": 1,
   "metadata": {},
   "outputs": [],
   "source": [
    "### **** Insert your first name and last name here ***** ###\n",
    "modeller = 'firstname-lastname' \n",
    "run_identifier = 'demo-run'"
   ]
  },
  {
   "cell_type": "code",
   "execution_count": 2,
   "metadata": {},
   "outputs": [],
   "source": [
    "# command to make output directory\n",
    "![ ! -d /data/demo-data/out-${modeller} ] && mkdir /data/demo-data/out-${modeller}"
   ]
  },
  {
   "cell_type": "markdown",
   "metadata": {},
   "source": [
    "# `cm4twc` demo"
   ]
  },
  {
   "cell_type": "code",
   "execution_count": 3,
   "metadata": {},
   "outputs": [],
   "source": [
    "import cm4twc"
   ]
  },
  {
   "cell_type": "markdown",
   "metadata": {},
   "source": [
    "## choose your components\n",
    "\n",
    "A library of `cm4twc`-compliant components available at https://github.com/cm4twc-org"
   ]
  },
  {
   "cell_type": "code",
   "execution_count": 4,
   "metadata": {},
   "outputs": [],
   "source": [
    "from cm4twccontrib.artemis import SurfaceLayerComponent, SubSurfaceComponent"
   ]
  },
  {
   "cell_type": "code",
   "execution_count": 5,
   "metadata": {},
   "outputs": [],
   "source": [
    "from cm4twccontrib.rfm import OpenWaterComponent"
   ]
  },
  {
   "cell_type": "code",
   "execution_count": 6,
   "metadata": {},
   "outputs": [
    {
     "name": "stdout",
     "output_type": "stream",
     "text": [
      "\n",
      "    Artemis provides a simple runoff production model designed to be\n",
      "    comparable with the runoff-production models typically embedded\n",
      "    within climate models. It is driven with precipitation, radiation,\n",
      "    temperature, humidity and wind speed on a daily time step and\n",
      "    calculates canopy interception, evaporation, snowmelt, infiltration,\n",
      "    and runoff. It uses a Rutter–Gash canopy formulation (`Gash, 1979`_)\n",
      "    to represent interception, together with Penman–Monteith evaporation\n",
      "    calculated using available radiation data (`Monteith, 1965`_). Soil\n",
      "    moisture is accounted for using a two-layer model with\n",
      "    saturation-excess runoff computed using a generalized TOPMODEL\n",
      "    (`Clark and Gedney, 2008`_). The snowpack is represented using a\n",
      "    temperature-based model of accumulation and melt (`Moore et al.,\n",
      "    1999`_, `Hock, 2003`_, `Beven, 2011`_). Snow accumulates when\n",
      "    precipitation falls while temperature is below a threshold\n",
      "    temperature. When temperature is above a threshold for melt, melting\n",
      "    occurs at a rate proportional to the difference between the current\n",
      "    temperature and the melting temperature. This conceptual model is\n",
      "    widely used (`Hock, 2003`_, `Zhang et al., 2006`_, `Rango and\n",
      "    Martinec, 1995`_, `Beven, 2011`_) and gives performance comparable\n",
      "    with that of more parameter rich energy balance models, despite\n",
      "    their greater complexity (`Parajka et al., 2010`_).\n",
      "\n",
      "    The surface layer component of Artemis comprises canopy interception,\n",
      "    evaporation, and snowmelt.\n",
      "\n",
      "    .. _`Gash, 1979`: https://doi.org/10.1002/qj.49710544304\n",
      "    .. _`Monteith, 1965`: https://repository.rothamsted.ac.uk/item/8v5v7\n",
      "    .. _`Clark and Gedney, 2008`: https://doi.org/10.1029/2007JD008940\n",
      "    .. _`Moore et al., 1999`: https://doi.org/10.5194/hess-3-233-1999\n",
      "    .. _`Hock, 2003`: https://doi.org/10.1016/S0022-1694(03)00257-9\n",
      "    .. _`Beven, 2011`: http://doi.org/10.1002/9781119951001\n",
      "    .. _`Rango and Martinec, 1995`: https://doi.org/10.1111/j.1752-1688.1995.tb03392.x\n",
      "    .. _`Zhang et al., 2006`: https://doi.org/10.3189/172756406781811952\n",
      "    .. _`Parajka et al., 2010`: https://doi.org/10.1029/2010JD014086\n",
      "\n",
      "    :contributors: Simon Dadson [1,2]\n",
      "    :affiliations:\n",
      "        1. UK Centre for Ecology and Hydrology\n",
      "        2. School of Geography and the Environment, University of Oxford\n",
      "    :licence: BSD-3\n",
      "    :copyright: 2020, University of Oxford\n",
      "    \n"
     ]
    }
   ],
   "source": [
    "print(SurfaceLayerComponent.__doc__)"
   ]
  },
  {
   "cell_type": "markdown",
   "metadata": {},
   "source": [
    "## create domains for space and time"
   ]
  },
  {
   "cell_type": "markdown",
   "metadata": {},
   "source": [
    "### space"
   ]
  },
  {
   "cell_type": "code",
   "execution_count": 7,
   "metadata": {},
   "outputs": [],
   "source": [
    "sd = cm4twc.LatLonGrid.from_extent_and_resolution(\n",
    "    latitude_extent=(50, 60),\n",
    "    latitude_resolution=0.5,\n",
    "    longitude_extent=(-11, 3),\n",
    "    longitude_resolution=0.5\n",
    ")"
   ]
  },
  {
   "cell_type": "code",
   "execution_count": 8,
   "metadata": {},
   "outputs": [
    {
     "name": "stdout",
     "output_type": "stream",
     "text": [
      "LatLonGrid(\n",
      "    shape {Y, X}: (20, 28)\n",
      "    Y, latitude (20,): [50.25, ..., 59.75] degrees_north\n",
      "    X, longitude (28,): [-10.75, ..., 2.75] degrees_east\n",
      "    Y_bounds (20, 2): [[50.0, ..., 60.0]] degrees_north\n",
      "    X_bounds (28, 2): [[-11.0, ..., 3.0]] degrees_east\n",
      ")\n"
     ]
    }
   ],
   "source": [
    "print(sd)"
   ]
  },
  {
   "cell_type": "markdown",
   "metadata": {},
   "source": [
    "### time"
   ]
  },
  {
   "cell_type": "code",
   "execution_count": 9,
   "metadata": {},
   "outputs": [],
   "source": [
    "from datetime import datetime, timedelta"
   ]
  },
  {
   "cell_type": "code",
   "execution_count": 10,
   "metadata": {},
   "outputs": [],
   "source": [
    "td = cm4twc.TimeDomain.from_start_end_step(\n",
    "    start=datetime(2016, 1, 1, 0, 0, 0),\n",
    "    end=datetime(2017, 1, 1, 0, 0, 0),\n",
    "    step=timedelta(hours=1),\n",
    "    calendar='gregorian'\n",
    ")"
   ]
  },
  {
   "cell_type": "code",
   "execution_count": 11,
   "metadata": {},
   "outputs": [
    {
     "name": "stdout",
     "output_type": "stream",
     "text": [
      "TimeDomain(\n",
      "    time (8784,): [2016-01-01 00:00:00, ..., 2016-12-31 23:00:00] gregorian\n",
      "    bounds (8784, 2): [[2016-01-01 00:00:00, ..., 2017-01-01 00:00:00]] gregorian\n",
      "    calendar: gregorian\n",
      "    units: seconds since 1970-01-01 00:00:00Z\n",
      "    period: 366 days, 0:00:00\n",
      "    timedelta: 1:00:00\n",
      ")\n"
     ]
    }
   ],
   "source": [
    "print(td)"
   ]
  },
  {
   "cell_type": "markdown",
   "metadata": {},
   "source": [
    "## load datasets"
   ]
  },
  {
   "cell_type": "markdown",
   "metadata": {},
   "source": [
    "### data for components"
   ]
  },
  {
   "cell_type": "code",
   "execution_count": 12,
   "metadata": {},
   "outputs": [
    {
     "name": "stdout",
     "output_type": "stream",
     "text": [
      "air_temperature:\n",
      "  kind: dynamic\n",
      "  units: K\n",
      "leaf_area_index:\n",
      "  frequency: monthly\n",
      "  kind: climatologic\n",
      "  units: '1'\n",
      "precipitation_flux:\n",
      "  kind: dynamic\n",
      "  units: kg m-2 s-1\n",
      "specific_humidity:\n",
      "  kind: dynamic\n",
      "  units: '1'\n",
      "surface_albedo:\n",
      "  kind: static\n",
      "  units: '1'\n",
      "surface_downwelling_longwave_flux_in_air:\n",
      "  kind: dynamic\n",
      "  units: W m-2\n",
      "surface_downwelling_shortwave_flux_in_air:\n",
      "  kind: dynamic\n",
      "  units: W m-2\n",
      "vegetation_height:\n",
      "  kind: static\n",
      "  units: m\n",
      "wind_speed:\n",
      "  kind: dynamic\n",
      "  units: m s-1\n",
      "\n"
     ]
    }
   ],
   "source": [
    "print(SurfaceLayerComponent.inputs_metadata)"
   ]
  },
  {
   "cell_type": "code",
   "execution_count": 13,
   "metadata": {},
   "outputs": [],
   "source": [
    "ds_sl = cm4twc.DataSet(\n",
    "    files=[\n",
    "        '/data/demo-data/in/driving/LWdown_WFDE5_CRU_*_v1.1.nc',\n",
    "        '/data/demo-data/in/driving/SWdown_WFDE5_CRU_*_v1.1.nc',\n",
    "        '/data/demo-data/in/driving/Qair_WFDE5_CRU_*_v1.1.nc',\n",
    "        '/data/demo-data/in/driving/Tair_WFDE5_CRU_*_v1.1.nc',\n",
    "        '/data/demo-data/in/driving/Wind_WFDE5_CRU_*_v1.1.nc',\n",
    "        '/data/demo-data/in/driving/Precip_WFDE5_CRU_*_v1.1.nc',\n",
    "        '/data/demo-data/in/ancillary/leaf_area_index.nc',\n",
    "        '/data/demo-data/in/ancillary/canopy_height.nc',\n",
    "        '/data/demo-data/in/ancillary/soil_albedo.nc'\n",
    "    ],\n",
    "    name_mapping={\n",
    "        'leaf-area index': 'leaf_area_index',\n",
    "        'canopy height': 'vegetation_height',\n",
    "        'soil albedo': 'surface_albedo'\n",
    "    }\n",
    ")"
   ]
  },
  {
   "cell_type": "code",
   "execution_count": 14,
   "metadata": {},
   "outputs": [
    {
     "name": "stdout",
     "output_type": "stream",
     "text": [
      "DataSet{\n",
      "    air_temperature(time(26304), latitude(20), longitude(28)) K\n",
      "    leaf_area_index(time(12), latitude(360), longitude(720)) 1\n",
      "    precipitation_flux(time(26304), latitude(20), longitude(28)) kg m-2 s-1\n",
      "    specific_humidity(time(26304), latitude(20), longitude(28)) kg kg-1\n",
      "    surface_albedo(latitude(360), longitude(720)) 1\n",
      "    surface_downwelling_longwave_flux_in_air(time(26304), latitude(20), longitude(28)) W m-2\n",
      "    surface_downwelling_shortwave_flux_in_air(time(26304), latitude(20), longitude(28)) W m-2\n",
      "    vegetation_height(latitude(360), longitude(720)) m\n",
      "    wind_speed(time(26304), latitude(20), longitude(28)) m s-1\n",
      "}\n"
     ]
    }
   ],
   "source": [
    "print(ds_sl)"
   ]
  },
  {
   "cell_type": "code",
   "execution_count": 15,
   "metadata": {},
   "outputs": [
    {
     "name": "stdout",
     "output_type": "stream",
     "text": [
      "saturated_hydraulic_conductivity:\n",
      "  kind: static\n",
      "  units: m s-1\n",
      "topmodel_saturation_capacity:\n",
      "  kind: static\n",
      "  units: mm m-1\n",
      "topographic_index:\n",
      "  kind: static\n",
      "  units: '1'\n",
      "\n"
     ]
    }
   ],
   "source": [
    "print(SubSurfaceComponent.inputs_metadata)"
   ]
  },
  {
   "cell_type": "code",
   "execution_count": 16,
   "metadata": {},
   "outputs": [],
   "source": [
    "ds_ss = cm4twc.DataSet(\n",
    "    files=[\n",
    "        '/data/demo-data/in/ancillary/saturated_hydraulic_conductivity.nc',\n",
    "        '/data/demo-data/in/ancillary/available_water_storage_capacity.nc',\n",
    "        '/data/demo-data/in/ancillary/topographic_index.nc'\n",
    "    ],\n",
    "    name_mapping={\n",
    "        'saturated hydraulic conductivity': 'saturated_hydraulic_conductivity',\n",
    "        'available water storage capacity': 'topmodel_saturation_capacity',\n",
    "        'topographic index': 'topographic_index'\n",
    "    }\n",
    ")"
   ]
  },
  {
   "cell_type": "code",
   "execution_count": 17,
   "metadata": {},
   "outputs": [
    {
     "name": "stdout",
     "output_type": "stream",
     "text": [
      "OpenWaterComponent(\n",
      "    category: openwater\n",
      "    inwards metadata:\n",
      "        evaporation_openwater [kg m-2 s-1]\n",
      "        surface_runoff [kg m-2 s-1]\n",
      "        subsurface_runoff [kg m-2 s-1]\n",
      "    inputs metadata:\n",
      "        i_area [1]\n",
      "    requires land sea mask: False\n",
      "    requires flow direction: True\n",
      "    parameters metadata:\n",
      "        c_land [m s-1]\n",
      "        cb_land [m s-1]\n",
      "        c_river [m s-1]\n",
      "        cb_river [m s-1]\n",
      "        ret_l [1]\n",
      "        ret_r [1]\n",
      "        river_length [m]\n",
      "    constants metadata:\n",
      "        a_thresh [1]\n",
      "        rho_lw [kg m-3]\n",
      "    states metadata:\n",
      "        flow_in [m]\n",
      "        b_flow_in [m]\n",
      "        surf_store [m]\n",
      "        sub_store [m]\n",
      "    outwards metadata:\n",
      "        water_level [kg m-2]\n",
      "    outputs metadata:\n",
      "        outgoing_water_volume_transport_along_river_channel [m3 s-1]\n",
      ")\n"
     ]
    }
   ],
   "source": [
    "print(OpenWaterComponent)"
   ]
  },
  {
   "cell_type": "code",
   "execution_count": 18,
   "metadata": {},
   "outputs": [],
   "source": [
    "ds_ow = cm4twc.DataSet(\n",
    "    files='/data/demo-data/in/ancillary/rfm_iarea.nc',\n",
    "    name_mapping={\n",
    "        'RFM drainage area in cell counts (WFDEI)': 'i_area'\n",
    "    }\n",
    ")"
   ]
  },
  {
   "cell_type": "markdown",
   "metadata": {},
   "source": [
    "### flow direction for spacedomain"
   ]
  },
  {
   "cell_type": "code",
   "execution_count": 19,
   "metadata": {},
   "outputs": [
    {
     "name": "stdout",
     "output_type": "stream",
     "text": [
      "False False True\n"
     ]
    }
   ],
   "source": [
    "print(\n",
    "    SurfaceLayerComponent.requires_flow_direction(), \n",
    "    SubSurfaceComponent.requires_flow_direction(), \n",
    "    OpenWaterComponent.requires_flow_direction()\n",
    ")"
   ]
  },
  {
   "cell_type": "code",
   "execution_count": 20,
   "metadata": {},
   "outputs": [],
   "source": [
    "import cf"
   ]
  },
  {
   "cell_type": "code",
   "execution_count": 21,
   "metadata": {},
   "outputs": [],
   "source": [
    "sd.flow_direction = cf.read('/data/demo-data/in/ancillary/flow_direction.nc')[0]"
   ]
  },
  {
   "cell_type": "markdown",
   "metadata": {},
   "source": [
    "### land sea mask for spacedomain"
   ]
  },
  {
   "cell_type": "code",
   "execution_count": 22,
   "metadata": {},
   "outputs": [
    {
     "name": "stdout",
     "output_type": "stream",
     "text": [
      "False False False\n"
     ]
    }
   ],
   "source": [
    "print(\n",
    "    SurfaceLayerComponent.requires_land_sea_mask(), \n",
    "    SubSurfaceComponent.requires_land_sea_mask(), \n",
    "    OpenWaterComponent.requires_land_sea_mask()\n",
    ")"
   ]
  },
  {
   "cell_type": "code",
   "execution_count": 23,
   "metadata": {},
   "outputs": [],
   "source": [
    "sd.land_sea_mask = cf.read('/data/demo-data/in/ancillary/land_sea_mask.nc')[0]"
   ]
  },
  {
   "cell_type": "markdown",
   "metadata": {},
   "source": [
    "## configure your components"
   ]
  },
  {
   "cell_type": "code",
   "execution_count": 24,
   "metadata": {},
   "outputs": [],
   "source": [
    "sl = SurfaceLayerComponent(\n",
    "    saving_directory=f'/data/demo-data/out-{modeller}',\n",
    "    timedomain=td,\n",
    "    spacedomain=sd,\n",
    "    dataset=ds_sl\n",
    ")"
   ]
  },
  {
   "cell_type": "code",
   "execution_count": 25,
   "metadata": {},
   "outputs": [],
   "source": [
    "ss = SubSurfaceComponent(\n",
    "    saving_directory=f'/data/demo-data/out-{modeller}',\n",
    "    timedomain=td,\n",
    "    spacedomain=sd,\n",
    "    dataset=ds_ss\n",
    ")"
   ]
  },
  {
   "cell_type": "code",
   "execution_count": 26,
   "metadata": {},
   "outputs": [
    {
     "name": "stdout",
     "output_type": "stream",
     "text": [
      "SubSurfaceComponent(\n",
      "    category: subsurface\n",
      "    inwards metadata:\n",
      "        evaporation_soil_surface [kg m-2 s-1]\n",
      "        evaporation_ponded_water [kg m-2 s-1]\n",
      "        transpiration [kg m-2 s-1]\n",
      "        throughfall [kg m-2 s-1]\n",
      "        snowmelt [kg m-2 s-1]\n",
      "        water_level [kg m-2]\n",
      "    inputs metadata:\n",
      "        topmodel_saturation_capacity [mm m-1]\n",
      "        saturated_hydraulic_conductivity [m s-1]\n",
      "        topographic_index [1]\n",
      "    requires land sea mask: False\n",
      "    requires flow direction: False\n",
      "    constants metadata:\n",
      "        m [1]\n",
      "        rho_lw [kg m-3]\n",
      "        S_top [m]\n",
      "    states metadata:\n",
      "        subsurface_store [m]\n",
      "    outwards metadata:\n",
      "        surface_runoff [kg m-2 s-1]\n",
      "        subsurface_runoff [kg m-2 s-1]\n",
      "        soil_water_stress [1]\n",
      ")\n"
     ]
    }
   ],
   "source": [
    "print(SubSurfaceComponent)"
   ]
  },
  {
   "cell_type": "code",
   "execution_count": 27,
   "metadata": {},
   "outputs": [],
   "source": [
    "ow = OpenWaterComponent(\n",
    "    saving_directory=f'/data/demo-data/out-{modeller}',\n",
    "    timedomain=td,\n",
    "    spacedomain=sd,\n",
    "    dataset=ds_ow,\n",
    "    parameters={\n",
    "        'c_land': (0.20, 'm s-1'),\n",
    "        'cb_land': (0.10, 'm s-1'),\n",
    "        'c_river': (0.62, 'm s-1'),\n",
    "        'cb_river': (0.15, 'm s-1'),\n",
    "        'ret_l': (0.0, '1'),\n",
    "        'ret_r': (0.005, '1'),\n",
    "        'river_length': (50000, 'm')\n",
    "    },\n",
    "    constants={\n",
    "        'a_thresh': (1, '1')\n",
    "    },\n",
    "    records={\n",
    "        'outgoing_water_volume_transport_along_river_channel': {\n",
    "            timedelta(days=1): ['mean']\n",
    "        }\n",
    "    }\n",
    ")"
   ]
  },
  {
   "cell_type": "markdown",
   "metadata": {},
   "source": [
    "## form a model from your components"
   ]
  },
  {
   "cell_type": "code",
   "execution_count": 28,
   "metadata": {},
   "outputs": [],
   "source": [
    "model = cm4twc.Model(\n",
    "    identifier=run_identifier,\n",
    "    config_directory=f'/data/demo-data/out-{modeller}',\n",
    "    saving_directory=f'/data/demo-data/out-{modeller}',\n",
    "    surfacelayer=sl,\n",
    "    subsurface=ss,\n",
    "    openwater=ow\n",
    ")"
   ]
  },
  {
   "cell_type": "markdown",
   "metadata": {},
   "source": [
    "## use your model"
   ]
  },
  {
   "cell_type": "code",
   "execution_count": 29,
   "metadata": {},
   "outputs": [],
   "source": [
    "model.spin_up(\n",
    "    start=datetime(2015, 1, 1, 0, 0, 0),\n",
    "    end=datetime(2016, 1, 1, 0, 0, 0),\n",
    "    cycles=1,\n",
    "    dumping_frequency=timedelta(days=30)\n",
    ")"
   ]
  },
  {
   "cell_type": "code",
   "execution_count": 30,
   "metadata": {},
   "outputs": [],
   "source": [
    "model.simulate(dumping_frequency=timedelta(days=30))"
   ]
  },
  {
   "cell_type": "markdown",
   "metadata": {},
   "source": [
    "## read your model outputs"
   ]
  },
  {
   "cell_type": "code",
   "execution_count": 31,
   "metadata": {},
   "outputs": [],
   "source": [
    "flow = cf.read(f'/data/demo-data/out-{modeller}/{run_identifier}_openwater_run_records_daily.nc')[0]"
   ]
  },
  {
   "cell_type": "code",
   "execution_count": 32,
   "metadata": {},
   "outputs": [],
   "source": [
    "import cfplot"
   ]
  },
  {
   "cell_type": "code",
   "execution_count": 33,
   "metadata": {},
   "outputs": [],
   "source": [
    "%matplotlib inline"
   ]
  },
  {
   "cell_type": "code",
   "execution_count": 34,
   "metadata": {},
   "outputs": [
    {
     "name": "stderr",
     "output_type": "stream",
     "text": [
      "/data/conda/hj-38-nompi/lib/python3.8/site-packages/cartopy/io/__init__.py:260: DownloadWarning: Downloading: https://naciscdn.org/naturalearth/110m/physical/ne_110m_land.zip\n",
      "  warnings.warn('Downloading: {}'.format(url), DownloadWarning)\n"
     ]
    },
    {
     "data": {
      "image/png": "[encoded data removed]",
      "text/plain": [
       "<Figure size 842.4x597.6 with 3 Axes>"
      ]
     },
     "metadata": {
      "needs_background": "light"
     },
     "output_type": "display_data"
    }
   ],
   "source": [
    "cfplot.con(flow[-1], blockfill=True, lines=False, title='Map')"
   ]
  },
  {
   "cell_type": "code",
   "execution_count": 35,
   "metadata": {},
   "outputs": [
    {
     "data": {
      "image/png": "[encoded data removed]",
      "text/plain": [
       "<Figure size 842.4x597.6 with 1 Axes>"
      ]
     },
     "metadata": {
      "needs_background": "light"
     },
     "output_type": "display_data"
    }
   ],
   "source": [
    "cfplot.lineplot(flow.subspace(Y=52.75, X=0.25), title='Hydrograph')"
   ]
  },
  {
   "cell_type": "code",
   "execution_count": 36,
   "metadata": {},
   "outputs": [],
   "source": [
    "# close the output file\n",
    "flow.close()"
   ]
  }
 ],
 "metadata": {
  "kernelspec": {
   "display_name": "hj-38-nompi",
   "language": "python",
   "name": "hj-38-nompi"
  },
  "language_info": {
   "codemirror_mode": {
    "name": "ipython",
    "version": 3
   },
   "file_extension": ".py",
   "mimetype": "text/x-python",
   "name": "python",
   "nbconvert_exporter": "python",
   "pygments_lexer": "ipython3",
   "version": "3.8.6"
  }
 },
 "nbformat": 4,
 "nbformat_minor": 5
}

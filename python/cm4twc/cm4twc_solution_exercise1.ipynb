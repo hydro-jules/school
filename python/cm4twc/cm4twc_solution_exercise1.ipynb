{
 "cells": [
  {
   "cell_type": "markdown",
   "metadata": {},
   "source": [
    "# `cm4twc` exercise 1 (a solution)\n",
    "\n",
    "For this exercise, you may find useful information in the [online documentation](https://cm4twc-org.github.io/cm4twc)"
   ]
  },
  {
   "cell_type": "markdown",
   "metadata": {},
   "source": [
    "1. Import the framework"
   ]
  },
  {
   "cell_type": "code",
   "execution_count": null,
   "metadata": {},
   "outputs": [],
   "source": [
    "import cm4twc"
   ]
  },
  {
   "cell_type": "markdown",
   "metadata": {},
   "source": [
    "2. Reload your model from the demo run using [`cm4twc.Model.from_yaml(...)`](https://cm4twc-org.github.io/cm4twc/api/methods/cm4twc.Model.from_yaml.html#cm4twc.Model.from_yaml)\n",
    "\n",
    "   (__hint:__ your YAML configuration file should be found in */data/demo-data/out-yourfirstname-yourlastname* and named *yourrunidentifier.yml*)"
   ]
  },
  {
   "cell_type": "code",
   "execution_count": null,
   "metadata": {},
   "outputs": [],
   "source": [
    "model = cm4twc.Model.from_yaml('/data/demo-data/out-firstname-lastname/demo-run.yml')"
   ]
  },
  {
   "cell_type": "markdown",
   "metadata": {},
   "source": [
    "3. Access the openwater component of the model through the `openwater` attribute of your model object, and use its `parameters` attribute to assign a new dictionary containing the new parameter values and units (i.e. `model.openwater.parameters = ...`)\n",
    "\n",
    "   (__hint:__ re-use the dictionary containing parameter values and units used in the creation of our openwater component in the demo run)\n",
    "   \n",
    "   (__note:__ the wave speed parameters of the RFM component are [highly dependent on model resolution](https://jules-lsm.github.io/latest/namelists/jules_rivers.nml.html#JULES_RIVERS::cland), if you want to change these, proceed with caution)\n",
    "   \n",
    "   (__hint:__ why not changing the *ret_r* parameter to a slightly larger value, say 0.01)"
   ]
  },
  {
   "cell_type": "code",
   "execution_count": null,
   "metadata": {},
   "outputs": [],
   "source": [
    "model.openwater.parameters = {\n",
    "    'c_land': (0.20, 'm s-1'),\n",
    "    'cb_land': (0.10, 'm s-1'),\n",
    "    'c_river': (0.62, 'm s-1'),\n",
    "    'cb_river': (0.15, 'm s-1'),\n",
    "    'ret_l': (0.0, '1'),\n",
    "    'ret_r': (0.01, '1'),\n",
    "    'river_length': (50000, 'm')\n",
    "}"
   ]
  },
  {
   "cell_type": "markdown",
   "metadata": {},
   "source": [
    "4. Change the identifier for your model to __something different__ from the one of your demo run using the `identifier` attribute of your model"
   ]
  },
  {
   "cell_type": "code",
   "execution_count": null,
   "metadata": {},
   "outputs": [],
   "source": [
    "model.identifier = 'diff-param-run'"
   ]
  },
  {
   "cell_type": "markdown",
   "metadata": {},
   "source": [
    "5. Spin up your model for one cycle for the calendar year 2015"
   ]
  },
  {
   "cell_type": "code",
   "execution_count": null,
   "metadata": {},
   "outputs": [],
   "source": [
    "from datetime import datetime, timedelta\n",
    "model.spin_up(\n",
    "    start=datetime(2015, 1, 1, 0, 0, 0),\n",
    "    end=datetime(2016, 1, 1, 0, 0, 0),\n",
    "    cycles=1\n",
    ")"
   ]
  },
  {
   "cell_type": "markdown",
   "metadata": {},
   "source": [
    "6. Start your model simulation"
   ]
  },
  {
   "cell_type": "code",
   "execution_count": null,
   "metadata": {},
   "outputs": [],
   "source": [
    "model.simulate()"
   ]
  },
  {
   "cell_type": "markdown",
   "metadata": {},
   "source": [
    "7. Using the `cf` package, load the *outgoing_water_volume_transport_along_river_channel* from the openwater component output of your __demo run__\n",
    "\n",
    "   (__hint:__ you have done this step before in the demo)"
   ]
  },
  {
   "cell_type": "code",
   "execution_count": null,
   "metadata": {},
   "outputs": [],
   "source": [
    "import cf\n",
    "\n",
    "flow1 = cf.read(f'/data/demo-data/out-firstname-lastname/demo-run_openwater_run_records_daily.nc')[0]"
   ]
  },
  {
   "cell_type": "markdown",
   "metadata": {},
   "source": [
    "8. Using the `cf` package, load the *outgoing_water_volume_transport_along_river_channel* from the openwater component output of the __run you've just completed__"
   ]
  },
  {
   "cell_type": "code",
   "execution_count": null,
   "metadata": {},
   "outputs": [],
   "source": [
    "flow2 = cf.read(f'/data/demo-data/out-firstname-lastname/diff-param-run_openwater_run_records_daily.nc')[0]"
   ]
  },
  {
   "cell_type": "markdown",
   "metadata": {},
   "source": [
    "9. Using the `cfplot` package, compare the two outputs above at coordinates (52.75 degrees North, 0.25 degrees South) on a lineplot\n",
    "\n",
    "   (__hint:__ remember to ask matplotlib to show plots inline)"
   ]
  },
  {
   "cell_type": "code",
   "execution_count": null,
   "metadata": {},
   "outputs": [],
   "source": [
    "import cfplot\n",
    "\n",
    "%matplotlib inline\n",
    "\n",
    "cfplot.gopen()\n",
    "cfplot.lineplot(flow1.subspace(Y=52.75, X=0.25), title='Hydrograph 1')\n",
    "cfplot.lineplot(flow2.subspace(Y=52.75, X=0.25), title='Hydrograph 2')\n",
    "cfplot.gclose()"
   ]
  },
  {
   "cell_type": "markdown",
   "metadata": {},
   "source": [
    "10. Close the files you've opened"
   ]
  },
  {
   "cell_type": "code",
   "execution_count": null,
   "metadata": {},
   "outputs": [],
   "source": [
    "flow1.close()\n",
    "flow2.close()"
   ]
  }
 ],
 "metadata": {
  "kernelspec": {
   "display_name": "hj-38-nompi",
   "language": "python",
   "name": "hj-38-nompi"
  },
  "language_info": {
   "codemirror_mode": {
    "name": "ipython",
    "version": 3
   },
   "file_extension": ".py",
   "mimetype": "text/x-python",
   "name": "python",
   "nbconvert_exporter": "python",
   "pygments_lexer": "ipython3",
   "version": "3.8.6"
  }
 },
 "nbformat": 4,
 "nbformat_minor": 5
}

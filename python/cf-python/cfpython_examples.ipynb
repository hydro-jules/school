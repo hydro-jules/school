{
 "cells": [
  {
   "cell_type": "markdown",
   "metadata": {
    "tags": []
   },
   "source": [
    "![image](https://hydro-jules.org/sites/default/files/Hydro-JULES_Logo_Positive.png)\n",
    "# Hydro-JULES - Cf-python Examples"
   ]
  },
  {
   "cell_type": "markdown",
   "metadata": {},
   "source": [
    "This notebook provides a very basic walk through of how to use a Datalabs python notebook, and how to open and read netCDF files in python using the Cf-Python and Cf-Plot packages. It shows how the spatial and time coordinates are commonly used within the netCDF files we have created for Hydro-JULES (which are relatively simple).\n",
    "\n",
    "For an introduction of the tutorial please see the video https://youtu.be/dGif03kApJE \n",
    "\n",
    "Cf-Python documentation is avaialble at https://ncas-cms.github.io/cf-python/; Cf-Plot documentation is available at https://ajheaps.github.io/cf-plot/\n"
   ]
  },
  {
   "cell_type": "markdown",
   "metadata": {},
   "source": [
    "**Contents** (note: to run cells later in the notebook, the first few cells must be run in order to import packages and initialise variables):\n",
    "- [Import packages required for this work](#import_packages)\n",
    "- [Quick netCDF file access to show how easy it is](#quick_file_access)\n",
    "- [Different data printing options](#closer_look)\n",
    "- [Reading the axis coordinates (X,Y,T)](#explore_coordinates)\n",
    "- [Quick plotting of data to show how easy it is](#quick_plot_data)\n",
    "- [Manipulating the data: Subspacing and Collapsing](#manipulating_data)\n",
    "- [Further exercises](#further_exercises)\n",
    "- [Cf-Python full tutorial](#explore_more)\n"
   ]
  },
  {
   "cell_type": "markdown",
   "metadata": {},
   "source": [
    "<a id=\"import_packages\"></a>\n",
    "### Import packages required for this work"
   ]
  },
  {
   "cell_type": "code",
   "execution_count": null,
   "metadata": {},
   "outputs": [],
   "source": [
    "# Importing cf-python and cfplot\n",
    "import cf, cfplot as cfp\n",
    "\n",
    "# Additional packages for advance plotting with cfplot\n",
    "import cartopy.crs as ccrs\n",
    "import matplotlib.patches as mpatches\n",
    "\n",
    "# Importing matplotlib to show that data read through cf-python can be plotted using matplotlib\n",
    "import matplotlib.pyplot as plt\n",
    "\n",
    "# The following line allows matplotlib plots to be shown in the notebook\n",
    "%matplotlib inline"
   ]
  },
  {
   "cell_type": "markdown",
   "metadata": {},
   "source": [
    "<a id=\"quick_file_access\"></a>\n",
    "### Quick netCDF file access to show how easy it is"
   ]
  },
  {
   "cell_type": "code",
   "execution_count": null,
   "metadata": {},
   "outputs": [],
   "source": [
    "# Initialise a file name variable along with its path\n",
    "path = '/data/example-data/'\n",
    "file = 'chess-met_tas_gb_1km_daily_20151201-20151231.nc'\n",
    "\n",
    "# Read the netCDF file using cf python\n",
    "my_dataset = cf.read(path+file)\n",
    "\n",
    "# See the netCDF file\n",
    "my_dataset\n",
    "# The following output is a list version of the file not a cf field. A cf field is in triangular brackets <> where as a list is in square brackets []"
   ]
  },
  {
   "cell_type": "code",
   "execution_count": null,
   "metadata": {},
   "outputs": [],
   "source": [
    "# Converting list to a cf field by selecting the first item\n",
    "my_dataset = my_dataset[0]\n",
    "my_dataset\n",
    "# The following output is a cf field rather than a list"
   ]
  },
  {
   "cell_type": "code",
   "execution_count": null,
   "metadata": {},
   "outputs": [],
   "source": [
    "# Another method, to read in the cf file directly, is to add [0] when reading in the file\n",
    "my_dataset = cf.read(path+file)[0]\n",
    "my_dataset\n",
    "\n",
    "# The first method should be used when you are not sure how many fields a netCDF file has, it is a good way to explore any dataset\n",
    "# The second method should only be used when you absolutely sure that the netCDF file only has one field,\n",
    "# As if the nerCDF file has more than one field using the second method will choose the first read fields and the fields are read randomly using cf.read\n",
    "# cf.select option can also be used to read one particular variable or cf field from a list of cf fields\n",
    "# For further detail please see https://ncas-cms.github.io/cf-python/tutorial.html#sorting-and-selecting-from-field-lists"
   ]
  },
  {
   "cell_type": "markdown",
   "metadata": {},
   "source": [
    "<a id=\"closer_look\"></a>\n",
    "### Different data printing options"
   ]
  },
  {
   "cell_type": "code",
   "execution_count": null,
   "metadata": {},
   "outputs": [],
   "source": [
    "#1 Shows you all the cf fields in brief\n",
    "my_dataset\n"
   ]
  },
  {
   "cell_type": "code",
   "execution_count": null,
   "metadata": {},
   "outputs": [],
   "source": [
    "#2 Shows you more details about the metadata of the cf fields\n",
    "print(my_dataset)\n"
   ]
  },
  {
   "cell_type": "code",
   "execution_count": null,
   "metadata": {},
   "outputs": [],
   "source": [
    "#3 Shows you maximum detail about the metadata of the cf fields\n",
    "my_dataset.dump()\n"
   ]
  },
  {
   "cell_type": "code",
   "execution_count": null,
   "metadata": {},
   "outputs": [],
   "source": [
    "#4 Prints out the data associated with the cf field (works only for one cf field)\n",
    "print(my_dataset.data)\n"
   ]
  },
  {
   "cell_type": "code",
   "execution_count": null,
   "metadata": {},
   "outputs": [],
   "source": [
    "#5 Prints out the data of the cf field as a numpy array (works only for one cf field)\n",
    "print(my_dataset.array)\n"
   ]
  },
  {
   "cell_type": "code",
   "execution_count": null,
   "metadata": {},
   "outputs": [],
   "source": [
    "# Method #5 can be used to convert a cf field data to a numpy array\n",
    "my_numpy = my_dataset.array\n",
    "\n",
    "# my_numpy is a numpy array having the data in the cf field and following is the data shape\n",
    "print(my_numpy.shape)\n"
   ]
  },
  {
   "cell_type": "markdown",
   "metadata": {},
   "source": [
    "<a id=\"explore_coordinates\"></a>\n",
    "### Reading the axis coordinates (X,Y,T)"
   ]
  },
  {
   "cell_type": "code",
   "execution_count": null,
   "metadata": {},
   "outputs": [],
   "source": [
    "# Quickly see the file coordinates again\n",
    "my_dataset\n"
   ]
  },
  {
   "cell_type": "code",
   "execution_count": null,
   "metadata": {},
   "outputs": [],
   "source": [
    "# Reading the Y coordinate\n",
    "my_dataset.coord('projection_y_coordinate')\n",
    "\n"
   ]
  },
  {
   "cell_type": "code",
   "execution_count": null,
   "metadata": {},
   "outputs": [],
   "source": [
    "# Writing out the Y coordinate as an array\n",
    "y = my_dataset.coord('projection_y_coordinate').array\n",
    "print(y)"
   ]
  },
  {
   "cell_type": "code",
   "execution_count": null,
   "metadata": {},
   "outputs": [],
   "source": [
    "# Reading the X coordinate\n",
    "my_dataset.coord('projection_x_coordinate')\n"
   ]
  },
  {
   "cell_type": "code",
   "execution_count": null,
   "metadata": {},
   "outputs": [],
   "source": [
    "# Writing out the X coordinate as an array\n",
    "x = my_dataset.coord('projection_x_coordinate').array\n",
    "print(x)\n"
   ]
  },
  {
   "cell_type": "code",
   "execution_count": null,
   "metadata": {},
   "outputs": [],
   "source": [
    "# Reading the time coordinate\n",
    "my_dataset.coord('time')\n"
   ]
  },
  {
   "cell_type": "code",
   "execution_count": null,
   "metadata": {},
   "outputs": [],
   "source": [
    "print(my_dataset.coord('time').array)\n"
   ]
  },
  {
   "cell_type": "code",
   "execution_count": null,
   "metadata": {},
   "outputs": [],
   "source": [
    "print(my_dataset.coord('time').dtarray)\n"
   ]
  },
  {
   "cell_type": "markdown",
   "metadata": {},
   "source": [
    "<a id=\"quick_plot_data\"></a>\n",
    "### Quick plotting of data to show how easy it is"
   ]
  },
  {
   "cell_type": "code",
   "execution_count": null,
   "metadata": {},
   "outputs": [],
   "source": [
    "#Cf-plot is the plotting software for cfpython\n",
    "cfp.reset() # Just to reset any old settings for cfplot\n",
    "\n",
    "#Plotting the first time step, same as the previous tutorial\n",
    "cfp.mapset(resolution='50m') #This line is for improved resolution than default of 110m\n",
    "cfp.con(my_dataset[0,:,:], lines=False, colorbar=True) # 1 Decmber 2015 air temperature plot\n",
    "# cfp.con refers to contour plots, for more types of plots please see http://ajheaps.github.io/cf-plot/gallery.html\n",
    "# my_dataset[0,:,:] uses subspacing by index, for more detail please see https://ncas-cms.github.io/cf-python/tutorial.html?#subspacing-by-index"
   ]
  },
  {
   "cell_type": "markdown",
   "metadata": {},
   "source": [
    "<a id=\"manipulating_data\"></a>\n",
    "### Manipulating the data: Subspacing and Collapsing"
   ]
  },
  {
   "cell_type": "markdown",
   "metadata": {},
   "source": [
    "Subspacing over time for 10 December 2015"
   ]
  },
  {
   "cell_type": "code",
   "execution_count": null,
   "metadata": {},
   "outputs": [],
   "source": [
    "#Selecting time slice, for example selecting 10 December 2015\n",
    "my_10dec = my_dataset.subspace(T = cf.year(2015) & cf.month(12) & cf.day(10)) \n",
    "my_10dec\n",
    "# We do not need to subset for year 2015 and month 12 as the data only contains this month and year, just \"my_dataset.subspace(T = cf.day(10))\" will also work\n",
    "# For other ways of time subspacing please see https://ncas-cms.github.io/cf-python/tutorial.html?#subspaces-in-time"
   ]
  },
  {
   "cell_type": "code",
   "execution_count": null,
   "metadata": {},
   "outputs": [],
   "source": [
    "# Printing the time coordinate for the subset data\n",
    "print(my_10dec.coord('time').dtarray)\n"
   ]
  },
  {
   "cell_type": "code",
   "execution_count": null,
   "metadata": {},
   "outputs": [],
   "source": [
    "# Removing the single length axis\n",
    "my_10dec = my_10dec.squeeze()\n",
    "my_10dec"
   ]
  },
  {
   "cell_type": "code",
   "execution_count": null,
   "metadata": {},
   "outputs": [],
   "source": [
    "# Plotting the air temperature for 10 December 2015\n",
    "cfp.con(my_10dec, lines=False, colorbar=True, colorbar_orientation='vertical') # 10 December 2015 air temperature plot"
   ]
  },
  {
   "cell_type": "markdown",
   "metadata": {},
   "source": [
    "Subspacing over area for southern England"
   ]
  },
  {
   "cell_type": "code",
   "execution_count": null,
   "metadata": {},
   "outputs": [],
   "source": [
    "# Selecting an area within the whole domain, example southern England\n",
    "my_area = my_10dec.subspace(projection_x_coordinate=cf.wi(350000,600000), projection_y_coordinate=cf.wi(50000,300000))\n",
    "my_area\n",
    "# For further details on collapsing over multiple dimensions please see https://ncas-cms.github.io/cf-python/tutorial.html?#multiple-dimensions"
   ]
  },
  {
   "cell_type": "code",
   "execution_count": null,
   "metadata": {},
   "outputs": [],
   "source": [
    "# Plotting figure to compare full domain vs. selected domain\n",
    "cfp.gopen(rows=1, columns=2) # Open a plot file to make multiple subplots. Please see \"file\" option in \"cfp.gopen\" to learn how to save plot as an image file\n",
    "cfp.levs(min=270, max=285, step=1) # Defines colorbar levels\n",
    "cfp.gpos(1) # First position of the subplot numbers defined in the cfp.gopen() command\n",
    "cfp.con(my_10dec, lines=0, colorbar=0) # 10 December 2015 air temperature plot for the whole of UK\n",
    "cfp.gpos(2)  # Second position of the subplot numbers defined in the cfp.gopen() command\n",
    "cfp.con(my_area, lines=0, colorbar=1, colorbar_position=[0.2,0.2,0.6,0.02]) # 10 December 2015 air temperature plot for the southern England\n",
    "cfp.gclose() # Plot needs to be closed to be rendered\n",
    "# Colorbar levels are made common for both subplots and thus we only draw the colorbar once rather than drawing it with both subplots\n",
    "# For more details on subplots please see http://ajheaps.github.io/cf-plot/multiple_plots.html"
   ]
  },
  {
   "cell_type": "markdown",
   "metadata": {},
   "source": [
    "Collapsing over time for 25-31 December 2015"
   ]
  },
  {
   "cell_type": "code",
   "execution_count": null,
   "metadata": {},
   "outputs": [],
   "source": [
    "# Subselecting time for 25-31 December 2015 \n",
    "my_time = my_dataset.subspace(time = cf.day(cf.wi(25,31)))\n",
    "my_time"
   ]
  },
  {
   "cell_type": "code",
   "execution_count": null,
   "metadata": {},
   "outputs": [],
   "source": [
    "# Printing out the time coordinate\n",
    "my_time.coord('time').dtarray\n"
   ]
  },
  {
   "cell_type": "code",
   "execution_count": null,
   "metadata": {},
   "outputs": [],
   "source": [
    "# Averaging time over 25-31 December 2015 \n",
    "my_time = my_time.collapse('time: mean')\n",
    "my_time\n",
    "# Collapse function can use many statistical routines like mean, standard deviation, minimum, maximum etc.\n",
    "# For further details please see https://ncas-cms.github.io/cf-python/tutorial.html?#statistical-collapses"
   ]
  },
  {
   "cell_type": "code",
   "execution_count": null,
   "metadata": {},
   "outputs": [],
   "source": [
    "# Plotting figure to compare different time slices\n",
    "cfp.gopen(rows=2, columns=2)\n",
    "cfp.levs(min=270, max=285, step=1)\n",
    "cfp.cscale('viridis')\n",
    "cfp.gpos(1)\n",
    "cfp.con(my_10dec, lines=False, colorbar=0, title='10 Dec')\n",
    "cfp.gpos(2)\n",
    "cfp.con(my_time, lines=False, colorbar=1, title='25-31 Dec', colorbar_orientation='vertical', colorbar_position=[0.92,0.55,0.015,0.4])\n",
    "cfp.levs(min=-3, max=3, step=0.5)\n",
    "cfp.cscale('BlRe')\n",
    "cfp.gpos(3)\n",
    "cfp.con(my_10dec-my_time, lines=False, title='10 Dec minus 25-31 Dec', colorbar_orientation='vertical', colorbar_position=[0.5,0.07,0.015,0.4])\n",
    "cfp.gclose()\n",
    "# For further details on the colorscales and colorbars please see http://ajheaps.github.io/cf-plot/colour_scales.html\n"
   ]
  },
  {
   "cell_type": "markdown",
   "metadata": {},
   "source": [
    "Collapsing over area for whole of UK and southern England"
   ]
  },
  {
   "cell_type": "code",
   "execution_count": null,
   "metadata": {},
   "outputs": [],
   "source": [
    "# Averaging over the whole of UK\n",
    "my_uk = my_dataset.collapse('area: mean')\n"
   ]
  },
  {
   "cell_type": "code",
   "execution_count": null,
   "metadata": {},
   "outputs": [],
   "source": [
    "# Subselecting time for southern England again\n",
    "my_se = my_dataset.subspace(projection_x_coordinate=cf.wi(350000,600000), projection_y_coordinate=cf.wi(50000,300000))\n",
    "# Averaging over the whole southern England\n",
    "my_se = my_se.collapse('area: mean')\n",
    "my_se\n"
   ]
  },
  {
   "cell_type": "code",
   "execution_count": null,
   "metadata": {},
   "outputs": [],
   "source": [
    "# We can also use data read through cf-python as numpy array and then plot using matplotlib\n",
    "# Identify the time axis \n",
    "time = my_uk.coord('time').day.array\n",
    "\n",
    "# Plotting line plots to compare the air temperature between whole of UK and southern England\n",
    "fig = plt.figure(figsize=(18,7))\n",
    "ax=plt.subplot(1,1,1)\n",
    "plt.plot(time, my_uk.squeeze().array, color='black', label='UK')\n",
    "plt.plot(time, my_se.squeeze().array, color='red', label='SE')\n",
    "plt.ylabel('Air Temperature (Kelvin)')\n",
    "plt.xticks(time)\n",
    "plt.xlabel('Days in 2015 December')\n",
    "plt.legend()\n",
    "plt.show()\n",
    "#For more information about using matplotlib please see https://matplotlib.org/\n"
   ]
  },
  {
   "cell_type": "markdown",
   "metadata": {
    "tags": []
   },
   "source": [
    "<a id=\"#further_exercises\"></a>\n",
    "### Further Exercises"
   ]
  },
  {
   "cell_type": "markdown",
   "metadata": {},
   "source": [
    "If you are finished with the rest of the Notebook above, please try the following excercises in the cells given below the exercise."
   ]
  },
  {
   "cell_type": "markdown",
   "metadata": {},
   "source": [
    "1. Please plot the mean temperature for the whole of December 2015 as a spatial plot over UK in degree celsius. \n",
    "   \n",
    "   HINT: 0Â°C = 273.15K"
   ]
  },
  {
   "cell_type": "code",
   "execution_count": null,
   "metadata": {},
   "outputs": [],
   "source": []
  },
  {
   "cell_type": "markdown",
   "metadata": {},
   "source": [
    "2. What is the mean temperature value for 17 December 2015 for the whole of UK?\n",
    "   \n",
    "   HINT: You have to average the temperature for all grid points for UK. "
   ]
  },
  {
   "cell_type": "code",
   "execution_count": null,
   "metadata": {},
   "outputs": [],
   "source": []
  },
  {
   "cell_type": "markdown",
   "metadata": {},
   "source": [
    "3. Compare the temperature difference between London and Edinburgh \n",
    "\n",
    "   HINT: Use Easting (X) = 529500 and Northing (Y) = 179500 for London | Easting (X) = 332500 and Northing (Y) = 673500 for Edinburgh"
   ]
  },
  {
   "cell_type": "code",
   "execution_count": null,
   "metadata": {},
   "outputs": [],
   "source": []
  },
  {
   "cell_type": "markdown",
   "metadata": {},
   "source": [
    "4. What all is wrong with the code below? Debug the code in the cell below and make sure it provides the correct answer. Please consider the comment in the cell as the truth. \n",
    "\n",
    "   HINT: Please pay attention to the error messages displayed. Further, the code running without warnings or errors does not mean the answer is correct, please check if the calculated output and overall plot is correct. \n",
    "   "
   ]
  },
  {
   "cell_type": "code",
   "execution_count": null,
   "metadata": {},
   "outputs": [],
   "source": [
    "#Calculating the temperature difference between 30 December and 1 December 2015 and plotting one figure with all values and one only potting the differences less than 4Kelvin\n",
    "my_01dec = my_dataset.subspace(time=cf.day(1))\n",
    "my_30dec = my_dataset.subspace(time=cf.day(31)).squeeze()\n",
    "my_diff = my_30dec - my_01dec\n",
    "new_diff = my_diff.where(cf.gt(4), cf.masked)\n",
    "\n",
    "cfp.reset()\n",
    "cfp.gopen(rows=1, columns=2)\n",
    "cfp.cscale('scale1)\n",
    "cfp.levs(min=-5, max=5, step=1)\n",
    "cfp.gpos(1)\n",
    "cfp.con(new_diff, lines=0, colorbar=False, title='All values')\n",
    "cfp.gpos(3)\n",
    "cfp.con(my_diff, lines=0, title='Values less than 4deg difference', colorbar=False, colorbar_title='Air Temperature Difference', colorbar_orientation='horizontal', colorbar_position=[0.12,0.22,0.8,0.02])\n",
    "cfp.gclose()\n"
   ]
  },
  {
   "cell_type": "markdown",
   "metadata": {},
   "source": [
    "5. What all is wrong with the code below? Debug the code in the cell below and make sure it provides the correct answer. Please consider the comment in the cell as the truth. \n",
    "\n",
    "   HINT: Please pay attention to the error messages displayed. Further, the code running without warnings or errors does not mean the answer is correct, please check if the calculated output and overall plot is correct. "
   ]
  },
  {
   "cell_type": "code",
   "execution_count": null,
   "metadata": {},
   "outputs": [],
   "source": [
    "#Calculating and plotting mean, minimum, maximum, standard deviation of the air temperature over whole of December 2015 for each grid point\n",
    "my_mean = my_dataset.collapse('time: mean')\n",
    "my_max  = my_dataset.collapse('time: minimum').squeeze()\n",
    "my_min  = my_dataset.collapse('time: maximum').squeeze()\n",
    "my_sd   = my_time.collapse('time: sd').squeeze()\n",
    "\n",
    "cfp.reset()\n",
    "cfp.gopen(rows=1, columns=2)\n",
    "cfp.gpos(1)\n",
    "cfp.cscale('plasma')\n",
    "cfp.con(my_mean, lines=0, colorbar=True, title='(b) Mean', colorbar_orientation='vertical', colorbar_title='')\n",
    "cfp.gpos(1)\n",
    "cfp.cscale('viridis')\n",
    "cfp.con(my_std, lines=0, colorbar=False, title='(a) Standard Deviation', colorbar_title='')\n",
    "cfp.levs(min=265, max=289, step=0.5)\n",
    "cfp.gpos(3)\n",
    "cfp.cscale('parula')\n",
    "cfp.con(my_min, lines=0, colorbar=True, title='(c) Minium', colorbar_orientation='vertical', colorbar_title='')\n",
    "cfp.gpos(4)\n",
    "cfp.cscale('parala')\n",
    "cfp.con(my_max, lines=0, colorbar=True, title='(d) Minimum', colorbar_orientation='vertical')\n",
    "cfp.gclose()\n",
    "\n"
   ]
  },
  {
   "cell_type": "markdown",
   "metadata": {
    "tags": []
   },
   "source": [
    "<a id=\"explore_more\"></a>\n",
    "### Cf-Python full tutorial"
   ]
  },
  {
   "cell_type": "markdown",
   "metadata": {},
   "source": [
    "Cf-python tutorial documentation is avaialble at https://ncas-cms.github.io/cf-python/tutorial.html\n",
    "\n",
    "Full training and short courses are avaialble at https://github.com/NCAS-CMS/cf-training\n"
   ]
  }
 ],
 "metadata": {
  "kernelspec": {
   "display_name": "hj-38-nompi",
   "language": "python",
   "name": "hj-38-nompi"
  },
  "language_info": {
   "codemirror_mode": {
    "name": "ipython",
    "version": 3
   },
   "file_extension": ".py",
   "mimetype": "text/x-python",
   "name": "python",
   "nbconvert_exporter": "python",
   "pygments_lexer": "ipython3",
   "version": "3.8.12"
  }
 },
 "nbformat": 4,
 "nbformat_minor": 4
}

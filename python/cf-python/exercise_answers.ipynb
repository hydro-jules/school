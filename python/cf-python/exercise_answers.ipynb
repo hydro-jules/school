{
 "cells": [
  {
   "cell_type": "markdown",
   "metadata": {},
   "source": [
    "### **Further exercises answers**"
   ]
  },
  {
   "cell_type": "markdown",
   "metadata": {},
   "source": [
    "**cfpython_examples notebook**"
   ]
  },
  {
   "cell_type": "code",
   "execution_count": null,
   "metadata": {},
   "outputs": [],
   "source": [
    "# Importing cf-python and cfplot\n",
    "import cf, cfplot as cfp\n",
    "\n",
    "#Importing numpy\n",
    "import numpy as np\n",
    "\n",
    "# Additional packages for advance plotting with cfplot\n",
    "import cartopy.crs as ccrs\n",
    "import matplotlib.patches as mpatches\n",
    "\n",
    "# Importing matplotlib to show that data read through cf-python can be plotted using matplotlib\n",
    "import matplotlib.pyplot as plt\n",
    "\n",
    "# The following line allows matplotlib plots to be shown in the notebook\n",
    "%matplotlib inline"
   ]
  },
  {
   "cell_type": "code",
   "execution_count": null,
   "metadata": {},
   "outputs": [],
   "source": [
    "# Initialise a file name variable along with its path\n",
    "file = '/data/example-data/chess-met_tas_gb_1km_daily_20151201-20151231.nc'\n",
    "\n",
    "# Read the netCDF file using cf python\n",
    "my_dataset = cf.read(file)[0]\n",
    "\n",
    "# See the netCDF file\n",
    "my_dataset\n",
    "# The following output is a list version of the file not a cf field. A cf field is in triangular brackets <> where as a list is in square brackets []\n",
    "\n",
    "# Writing out the Y coordinate as an array\n",
    "y = my_dataset.coord('projection_y_coordinate').array\n",
    "\n",
    "# Writing out the X coordinate as an array\n",
    "x = my_dataset.coord('projection_x_coordinate').array\n"
   ]
  },
  {
   "cell_type": "code",
   "execution_count": null,
   "metadata": {},
   "outputs": [],
   "source": [
    "# Initialise a file name variable along with its path\n",
    "file = '/data/example-data/chess-met_tas_gb_1km_daily_20151201-20151231.nc'\n",
    "\n",
    "# Read the netCDF file using cf python\n",
    "my_dataset = cf.read(file)[0]\n",
    "\n",
    "# See the netCDF file\n",
    "my_dataset\n",
    "# The following output is a list version of the file not a cf field. A cf field is in triangular brackets <> where as a list is in square brackets []"
   ]
  },
  {
   "cell_type": "code",
   "execution_count": null,
   "metadata": {},
   "outputs": [],
   "source": [
    "# Exercise 1: Averaging time over the whole of December 2015 \n",
    "my_time = my_dataset.collapse('time: mean')\n",
    "\n",
    "#Plotting average temperature for December 2015 in degrees Celsius\n",
    "cfp.reset()\n",
    "cfp.gopen()\n",
    "cfp.con(my_time-273.15, lines=0, colorbar_title='air_temperature (degC)')\n",
    "cfp.gclose()"
   ]
  },
  {
   "cell_type": "code",
   "execution_count": null,
   "metadata": {},
   "outputs": [],
   "source": [
    "# Exercise 2: Averaging for the 17 December\n",
    "my_17dec = my_dataset.subspace(time = cf.day(17))\n",
    "my_17dec = my_17dec.collapse('area: mean').squeeze()\n",
    "print(my_17dec.array)\n"
   ]
  },
  {
   "cell_type": "code",
   "execution_count": null,
   "metadata": {},
   "outputs": [],
   "source": [
    "# Exercise 3: Comparing London and Edinburg \n",
    "my_edingburg = my_dataset.subspace(projection_x_coordinate=332500, projection_y_coordinate=673500)\n",
    "my_london    = my_dataset.subspace(projection_x_coordinate=529500, projection_y_coordinate=179500)\n",
    "\n",
    "# Identify the time axis \n",
    "time = my_dataset.coord('time').day.array\n",
    "\n",
    "# Plotting line plots to compare the air temperature between London and Edingburgh\n",
    "fig = plt.figure(figsize=(18,7))\n",
    "ax=plt.subplot(1,1,1)\n",
    "plt.plot(time, my_edingburg.squeeze().array, color='blue', label='Edinburg')\n",
    "plt.plot(time, my_london.squeeze().array, color='red', label='London')\n",
    "plt.ylabel('Air Temperature (Kelvin)')\n",
    "plt.xticks(time)\n",
    "plt.xlabel('Days in 2015 December')\n",
    "plt.legend()\n",
    "plt.show()\n"
   ]
  },
  {
   "cell_type": "code",
   "execution_count": null,
   "metadata": {},
   "outputs": [],
   "source": [
    "# Exercise 4: Debugging exercise\n",
    "# Calculating the temperature difference between 30 December and 1 December 2015 and plotting one figure with all values and one only potting the differences less than 4Kelvin\n",
    "my_01dec = my_dataset.subspace(time=cf.day(1))\n",
    "my_30dec = my_dataset.subspace(time=cf.day(30)).squeeze()\n",
    "my_diff = my_30dec - my_01dec\n",
    "new_diff = my_diff.where(cf.gt(4), cf.masked)\n",
    "\n",
    "cfp.reset()\n",
    "cfp.gopen(rows=1, columns=2)\n",
    "cfp.cscale('scale1')\n",
    "cfp.levs(min=-5, max=5, step=1)\n",
    "cfp.gpos(1)\n",
    "cfp.con(my_diff, lines=0, colorbar=False, title='All values')\n",
    "cfp.gpos(2)\n",
    "cfp.con(new_diff, lines=0, title='Values less than 4deg difference', colorbar=True, colorbar_title='Air Temperature Difference', colorbar_orientation='horizontal', colorbar_position=[0.12,0.22,0.8,0.02])\n",
    "cfp.gclose()\n"
   ]
  },
  {
   "cell_type": "code",
   "execution_count": null,
   "metadata": {},
   "outputs": [],
   "source": [
    "# Exercise 5: Debugging exercise\n",
    "# Calculating and plotting mean, minimum, maximum, standard deviation of the air temperature over whole of December 2015 for each grid point\n",
    "my_mean = my_dataset.collapse('time: mean').squeeze()\n",
    "my_min = my_dataset.collapse('time: minimum').squeeze()\n",
    "my_max = my_dataset.collapse('time: maximum').squeeze()\n",
    "my_sd = my_dataset.collapse('time: sd').squeeze()\n",
    "\n",
    "cfp.reset()\n",
    "cfp.gopen(rows=2, columns=2)\n",
    "cfp.gpos(1)\n",
    "cfp.cscale('plasma')\n",
    "cfp.con(my_mean, lines=0, colorbar=True, title='(a) Mean', colorbar_orientation='vertical', colorbar_title='')\n",
    "cfp.gpos(2)\n",
    "cfp.cscale('viridis')\n",
    "cfp.con(my_sd, lines=0, colorbar=True, title='(b) Standard Deviation', colorbar_orientation='vertical', colorbar_title='')\n",
    "cfp.levs(min=265, max=289, step=2)\n",
    "cfp.gpos(3)\n",
    "cfp.cscale('parula')\n",
    "cfp.con(my_min, lines=0, colorbar=True, title='(c) Minimum', colorbar_orientation='vertical', colorbar_title='')\n",
    "cfp.gpos(4)\n",
    "cfp.cscale('parula')\n",
    "cfp.con(my_max, lines=0, colorbar=True, title='(d) Maximum', colorbar_orientation='vertical', colorbar_title='')\n",
    "cfp.gclose()\n"
   ]
  },
  {
   "cell_type": "markdown",
   "metadata": {},
   "source": [
    "**modelvsobserved_examples notebook**"
   ]
  },
  {
   "cell_type": "code",
   "execution_count": null,
   "metadata": {},
   "outputs": [],
   "source": [
    "# Initialise the data path\n",
    "path = '/data/example-data/'\n",
    "# Read the station information csv file using numpy\n",
    "my_stations = np.genfromtxt(path+'SITES_2016.csv', delimiter=',', dtype='unicode') # Unicode reads data in string type which would need to be converted to float later on\n",
    "\n",
    "# Read the VWC data csv file using numpy\n",
    "my_vwc = np.genfromtxt(path+'COSMOS_VWC_2016.csv', delimiter=',', skip_header=1)[:,1:]\n",
    "my_vwc_stations = np.genfromtxt(path+'COSMOS_VWC_2016.csv', delimiter=',', dtype='unicode')[0,1:]\n",
    "\n",
    "# Initialise a file name along with its path\n",
    "file = '/data/demo-data/out-example/demo-run-more-records_subsurface_run_records_daily.nc'\n",
    "\n",
    "# We read in a netCDF file from the modelled output and select the soil water stress (SWS) variable\n",
    "my_sws = cf.read(file).select('soil_water_stress')[0]\n",
    "my_sws = my_sws*100\n",
    "\n",
    "# Identify the time information from the first column of my_vwc\n",
    "time = np.genfromtxt(path+'COSMOS_VWC_2016.csv', delimiter=',', dtype='unicode')[1:,0]\n"
   ]
  },
  {
   "cell_type": "code",
   "execution_count": null,
   "metadata": {},
   "outputs": [],
   "source": [
    "# Exercise 1: Find the compare to BUNNY and STGHT to model data\n",
    "# Command to find the index for station BUNNY and STGHT\n",
    "bunny_idx = np.where(my_vwc_stations=='BUNNY_VWC')[0][0]\n",
    "stght_idx = np.where(my_vwc_stations=='STGHT_VWC')[0][0]\n",
    "\n",
    "bunny_vwc = my_vwc[:,bunny_idx]\n",
    "stght_vwc = my_vwc[:,stght_idx]\n",
    "\n",
    "bunny_idx = np.where(my_stations=='BUNNY')[0][0]\n",
    "stght_idx = np.where(my_stations=='STGHT')[0][0]\n",
    "\n",
    "print(my_stations[bunny_idx,:])\n",
    "print(my_stations[stght_idx,:])\n",
    "\n",
    "# For BUNNY and STGHT stations the nearest grid point on the modelled grid is X = -1.25; Y = 52.75\n",
    "model_sws = my_sws.subspace(X = -1.25, Y = 52.75).squeeze().array\n",
    "\n",
    "# Plotting the output\n",
    "fig = plt.figure(figsize=(18,7))\n",
    "ax=plt.subplot(1,1,1)\n",
    "plt.plot(time, bunny_vwc, color='b', label='BUNNY VWC')\n",
    "plt.plot(time, stght_vwc, color='b', label='STGHT VWC')\n",
    "plt.plot(time, model_sws, color='r', label='Model SWS')\n",
    "plt.ylabel('Soil Water (Percentage)')\n",
    "plt.xticks(time[0::30])\n",
    "plt.xlabel('Time (DD/MM/YYYY)')\n",
    "plt.legend()\n",
    "plt.show()\n"
   ]
  },
  {
   "cell_type": "code",
   "execution_count": null,
   "metadata": {},
   "outputs": [],
   "source": [
    "# Exercise 2: Find the minimum, maximum and mean for VWC and SWS data. \n",
    "# Calculating the statistics\n",
    "my_vwc_min  = np.nanmin(my_vwc, axis=1)\n",
    "my_vwc_max  = np.nanmax(my_vwc, axis=1)\n",
    "my_vwc_mean = np.nanmean(my_vwc, axis=1)\n",
    "\n",
    "my_sws_min = my_sws.collapse('area: minimum').squeeze().array\n",
    "my_sws_max = my_sws.collapse('area: maximum').squeeze().array\n",
    "my_sws_mean = my_sws.collapse('area: mean').squeeze().array\n",
    "\n",
    "# Plotting the output\n",
    "fig = plt.figure(figsize=(18,7))\n",
    "ax=plt.subplot(1,1,1)\n",
    "plt.plot(time, my_vwc_mean, color='b', label='VWC Mean')\n",
    "plt.fill_between(time, my_vwc_min, my_vwc_max, color='b', alpha=0.25, label='VWC Range')\n",
    "plt.plot(time, my_sws_mean, color='r', label='SWS Mean')\n",
    "plt.fill_between(time, my_sws_min, my_sws_max, color='r', alpha=0.25, label='SWS Range')\n",
    "plt.ylabel('Soil Water (Percentage)')\n",
    "plt.xticks(time[0::30])\n",
    "plt.xlabel('Time (DD/MM/YYYY)')\n",
    "plt.legend()\n",
    "plt.show()\n"
   ]
  },
  {
   "cell_type": "code",
   "execution_count": null,
   "metadata": {},
   "outputs": [],
   "source": [
    "# Exercise 3: Compare average of multiple stations VWC with regional SWS\n",
    "\n",
    "# Get index for stations BUNNY, STGHT, WADDN, ALIC1, CHOBH, CARDT, ROTHD, LULLN,  MORLY, RDMER\n",
    "station_index = []\n",
    "station_list = ['BUNNY_VWC', 'STGHT_VWC', 'WADDN_VWC', 'ALIC1_VWC', 'CHOBH_VWC', 'CARDT_VWC', 'ROTHD_VWC', 'LULLN_VWC', 'MORLY_VWC', 'RDMER_VWC']\n",
    "for i in range(len(station_list)):\n",
    "    station_index.append(np.where(my_vwc_stations==station_list[i])[0][0])\n",
    "    \n",
    "# Average only the above 10 stations \n",
    "new_vwc = np.nanmean(my_vwc[:,station_index], axis=1)\n",
    "\n",
    "# Average only for the region south and east of BUNNY (X = -1.25; Y = 52.75)\n",
    "new_sws = my_sws.subspace(X=cf.wi(-1.25,3), Y=cf.wi(50, 52.75)).collapse('area: mean').squeeze().array\n",
    "\n",
    "# Plotting the output\n",
    "fig = plt.figure(figsize=(18,7))\n",
    "ax=plt.subplot(1,1,1)\n",
    "plt.plot(time, new_vwc, color='b', label='Station VWC')\n",
    "plt.plot(time, new_sws, color='r', label='Modelled SWS')\n",
    "plt.title('South East England')\n",
    "plt.ylabel('Soil Water (Percentage)')\n",
    "plt.xticks(time[0::30])\n",
    "plt.xlabel('Time (DD/MM/YYYY)')\n",
    "plt.legend()\n",
    "plt.show()\n"
   ]
  }
 ],
 "metadata": {
  "kernelspec": {
   "display_name": "hj-38-nompi",
   "language": "python",
   "name": "hj-38-nompi"
  },
  "language_info": {
   "codemirror_mode": {
    "name": "ipython",
    "version": 3
   },
   "file_extension": ".py",
   "mimetype": "text/x-python",
   "name": "python",
   "nbconvert_exporter": "python",
   "pygments_lexer": "ipython3",
   "version": "3.8.6"
  }
 },
 "nbformat": 4,
 "nbformat_minor": 5
}

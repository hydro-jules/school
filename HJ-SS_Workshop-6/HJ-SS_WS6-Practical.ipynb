{
 "cells": [
  {
   "cell_type": "markdown",
   "id": "controlled-starter",
   "metadata": {},
   "source": [
    "# Workshop 6: Practical Applications"
   ]
  },
  {
   "cell_type": "markdown",
   "id": "brown-mitchell",
   "metadata": {},
   "source": [
    "This notebook has some practical exercises for participants to attempt themselves. Each question has detailed explaination and the participants should create code to solve them. Participants should look at the previously used training notebooks from Workshops 4 and 5 for help in solving these questions. Participants are encouraged to ask the instructors for help. \n",
    "\n",
    "**The learning objectives are to:**\n",
    "- Learn to identify, access, and analyse climate data to address scientific questions effectively\n",
    "- Learn to visualise the outcomes of the climate data analysis for informative presentation of results\n",
    "\n",
    "<details>\n",
    "    <summary>To check your solutions please click here.</summary>\n",
    "    Participants can check their answers against the answers provided in the notebook titled <b>HJ-SS_WP6-Answers.ipynb</b>.\n",
    "</details>"
   ]
  },
  {
   "cell_type": "markdown",
   "id": "incomplete-static",
   "metadata": {},
   "source": [
    "### Exercise 1: How hot were the summer holidays of 2003?\n",
    "\n",
    "Please plot mean temperature for the whole of August 2003 as a spatial plot over UK in degree celsius. Please use the CHESS air temperature data stored in the JASMIN GroupWorkspace (/gws/nopw/j04/hydro_jules/data/uk/driving_data/chess/chess-met/daily/) and the netCDF4 package.\n",
    "   \n",
    "    HINT: 0°C = 273.15K"
   ]
  },
  {
   "cell_type": "code",
   "execution_count": null,
   "id": "proof-developer",
   "metadata": {},
   "outputs": [],
   "source": []
  },
  {
   "cell_type": "markdown",
   "id": "social-street",
   "metadata": {},
   "source": [
    "### Exercise 2: Is London really warmer than Edinburgh?\n",
    "\n",
    "Compare the monthly mean temperature difference between London and Edinburgh for all the months in 2000. Please use the CHESS air temperature data stored in the JASMIN GroupWorkspace (/gws/nopw/j04/hydro_jules/data/uk/driving_data/chess/chess-met/daily/) and the xarray package.\n",
    "\n",
    "    HINT: Use Easting (X) = 529500 and Northing (Y) = 179500 for London | Easting (X) = 332500 and Northing (Y) = 673500 for Edinburgh"
   ]
  },
  {
   "cell_type": "code",
   "execution_count": null,
   "id": "convenient-floor",
   "metadata": {},
   "outputs": [],
   "source": []
  },
  {
   "cell_type": "markdown",
   "id": "decent-powell",
   "metadata": {},
   "source": [
    "### Exercise 3: Is UK being effected by the warming of the globe?\n",
    "\n",
    "What was the maximum temperature spread for 1st May 2015 for the whole of UK? How does this compare against the spread of temperature for the whole of UK in each subsequent decades later till 2055 (i.e., 1 May 2025, 2035, 2045 and 2055) compared as boxplots? Please use the Ensemble memeber number 01 of the CHESS-SCAPE data stored in JASMIN Object Store (via the catalogue.yaml file used in the notebooks before) and the xarray package.\n",
    "   \n",
    "    HINT: Use the yaml catalogue file from the training course. "
   ]
  },
  {
   "cell_type": "code",
   "execution_count": null,
   "id": "judicial-sailing",
   "metadata": {},
   "outputs": [],
   "source": []
  },
  {
   "cell_type": "markdown",
   "id": "c204b9f7-7b50-4046-b662-42913e43a76d",
   "metadata": {},
   "source": [
    "### Exercise 4: How have the UK temperatures changed over time?\n",
    "\n",
    "Compare the temperature values of all UK for the long-past history (1961) to mid-history (1981) and the recent history (2001). Please compare the temperature values of the first time step (1961-01-01) vs. 7305 time step (1981-01-01) and first step (1961-01-01) vs. the 14610 time step (2001-0-01) of the CHESS at each grid point as scatter plots in the same figure? Please use the CHESS data available online here \"https://eip.ceh.ac.uk/thredds/dodsC/public-chess/driving_data/aggregation/tas_aggregation\" and the xarray package.\n",
    "   \n",
    "    HINT: You have to use the flag \"decode_times=False\" when reading the data into the xarray pacakge. Also the first time step is the zeroth time step in python as the indexing in python starts from 0."
   ]
  },
  {
   "cell_type": "code",
   "execution_count": null,
   "id": "associate-trigger",
   "metadata": {},
   "outputs": [],
   "source": []
  },
  {
   "cell_type": "markdown",
   "id": "78aebe96-0979-4b73-97bc-d37768557d4f",
   "metadata": {},
   "source": [
    "### Exercise 5: In which season does it rain the most in London?\n",
    "\n",
    "Compare the precipitation difference over different seasons of London as histograms. Please use the CHESS seasonal precipitation data stored in the JASMIN GroupWorkspace (/gws/nopw/j04/hydro_jules/data/uk/driving_data/chess/chess-met/seasonal/) and the xarray package.\n",
    "\n",
    "    HINT: Use Easting (X) = 529500 and Northing (Y) = 179500 for London and multiply the precipitation flux by 60*60*24=86400 to convert from per second to rainfall per day. "
   ]
  },
  {
   "cell_type": "code",
   "execution_count": null,
   "id": "twelve-conference",
   "metadata": {},
   "outputs": [],
   "source": []
  }
 ],
 "metadata": {
  "kernelspec": {
   "display_name": "Python 3 + Jaspy",
   "language": "python",
   "name": "jaspy"
  },
  "language_info": {
   "codemirror_mode": {
    "name": "ipython",
    "version": 3
   },
   "file_extension": ".py",
   "mimetype": "text/x-python",
   "name": "python",
   "nbconvert_exporter": "python",
   "pygments_lexer": "ipython3",
   "version": "3.11.9"
  }
 },
 "nbformat": 4,
 "nbformat_minor": 5
}
